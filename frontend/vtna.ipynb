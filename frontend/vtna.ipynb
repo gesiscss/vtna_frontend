{
 "cells": [
  {
   "cell_type": "markdown",
   "metadata": {},
   "source": [
    "<div style=\"text-align: center\"><img width=300px src=\"https://www.uni-koblenz-landau.de/de/koblenz/logo.png\"></div>\n",
    "\n",
    "\n",
    "# VTNA\n",
    "\n"
   ]
  },
  {
   "cell_type": "code",
   "execution_count": 16,
   "metadata": {
    "collapsed": true
   },
   "outputs": [],
   "source": [
    "import ipywidgets as widgets\n",
    "import pandas as pd\n",
    "import matplotlib.pyplot as plt\n",
    "import networkx as nx\n",
    "import numpy as np\n",
    "import seaborn as sns\n",
    "import matplotlib.animation as animation\n",
    "import time\n",
    "import fileupload\n",
    "\n",
    "from pylab import *\n",
    "from IPython.display import display, HTML, FileLink, FileLinks, clear_output\n",
    "from ipywidgets import Button, HBox, VBox\n",
    "\n",
    "\n",
    "import io\n",
    "\n",
    "import zipfile\n"
   ]
  },
  {
   "cell_type": "code",
   "execution_count": 17,
   "metadata": {},
   "outputs": [],
   "source": [
    "#Install extentions:\n",
    "#https://github.com/peteut/ipython-file-upload\n",
    "#https://github.com/ipython-contrib/jupyter_contrib_nbextensions\n",
    "\n",
    "network_data = None\n",
    "attribute_data = None\n",
    "\n",
    "graph = None\n",
    "fig_num = None\n",
    "ht9_aggr_layout = None\n",
    "ht9_tem_agg_net = None\n",
    "\n",
    "max_filesize_import = 5000000\n",
    "\n",
    "update_delta_sec = 20\n",
    "\n",
    "example_network_data = 'data/dummy_network.txt'\n",
    "example_attribute_data = 'data/dummy_attributes.txt'\n",
    "\n",
    "\n",
    "\n",
    "\n",
    "\n",
    "input_form = \"\"\"\n",
    "<script type=\"text/Javascript\">\n",
    "    function help_window(){\n",
    "    alert(\"Please upload tab-separated values, see this example:\");\n",
    "    }\n",
    "</script>\n",
    "<input onclick=\"help_window()\" type=\"image\" src=\"images/help.png\" style='max-width: 20px;' alt=\"Submit Button\" />\n",
    "\n",
    "\"\"\"\n",
    "\n",
    "\n",
    "\n"
   ]
  },
  {
   "cell_type": "code",
   "execution_count": 18,
   "metadata": {
    "collapsed": true
   },
   "outputs": [],
   "source": [
    "time_slider = widgets.IntSlider(\n",
    "    #value=initial_time,\n",
    "    #min=initial_time,\n",
    "    description='Timeline: ',\n",
    "    #max=ht9_df['timestamp'].max(),\n",
    "    step=update_delta_sec,\n",
    "    continuous_update=False\n",
    ")\n",
    "\n",
    "play = widgets.Play(\n",
    "#     interval=10,\n",
    "    value=50,\n",
    "    min=0,\n",
    "    #max=ht9_df['timestamp'].max(),\n",
    "    step=20,\n",
    "    description=\"Press play\",\n",
    "    disabled=False\n",
    ")"
   ]
  },
  {
   "cell_type": "code",
   "execution_count": 19,
   "metadata": {
    "collapsed": true
   },
   "outputs": [],
   "source": [
    "def safe_div(x,y):\n",
    "    if y == 0:\n",
    "        return 0\n",
    "    return x / y\n",
    "\n",
    "\n",
    "def create_greaph():\n",
    "    global network_data\n",
    "    global fig_num\n",
    "    global ht9_aggr_layout\n",
    "    global ht9_tem_agg_net\n",
    "    ht9_df = network_data#pd.read_csv(testfile, sep='\\t', header=None, names=['timestamp', 'node1', 'node2'])\n",
    "    time_sec = ht9_df['timestamp'].max() - ht9_df['timestamp'].min()\n",
    "\n",
    "\n",
    "    \n",
    "\n",
    "\n",
    "    ht9_aggr_df = ht9_df.groupby(['node1', 'node2'], as_index=False).count().rename(columns={'timestamp': 'observations'})\n",
    "    ht9_aggr_net = nx.Graph()\n",
    "    ht9_aggr_net.add_edges_from((t[1], t[2], {'observations': t[3]}) for t in ht9_aggr_df.itertuples())\n",
    "    ht9_aggr_deg_cent = list(nx.degree_centrality(ht9_aggr_net).values())\n",
    "    ht9_aggr_clo_cent = list(nx.closeness_centrality(ht9_aggr_net).values())\n",
    "    ht9_aggr_layout = nx.spring_layout(ht9_aggr_net, k=2.0/np.sqrt(len(ht9_aggr_net.nodes)))\n",
    "\n",
    "\n",
    "    # Compute layout of nodes for aggregated network.\n",
    "    ht9_aggr_layout = nx.spring_layout(ht9_aggr_net, k=safe_div(2.0,np.sqrt(len(ht9_aggr_net.nodes))))\n",
    "    initial_time = ht9_df['timestamp'].min()\n",
    "    time_slider.value = 0\n",
    "    time_slider.min = 0\n",
    "    time_slider.max=ht9_df['timestamp'].max()\n",
    "    play.max=ht9_df['timestamp'].max()\n",
    "    plt.figure(figsize=(8, 8))\n",
    "    fig = plt.gcf()\n",
    "    axes = plt.gca()\n",
    "    fig_num = fig.number\n",
    "    global graph\n",
    "    graph = ht9_df\n",
    "\n",
    "\n",
    "def draw_current_temp_aggr(current_time):\n",
    "    global graph\n",
    "    plt.figure(fig_num, figsize=(8, 8))\n",
    "    fig = plt.gcf()\n",
    "    axes = plt.gca()\n",
    "    axes.set_xlim((-1.2, 1.2))\n",
    "    axes.set_ylim((-1.2, 1.2))\n",
    "    if graph is not None and fig_num is not None:\n",
    "        ht9_tem_agg_net = nx.Graph()\n",
    "        ht9_tem_agg_net.add_edges_from([(t[2], t[3]) for t in graph[graph['timestamp'] == current_time].itertuples()])\n",
    "        nx.draw_networkx(ht9_tem_agg_net, ht9_aggr_layout, ax=axes, with_labels=False, node_size=75, node_color='green')\n",
    "    axes.set_title('time = {}'.format(current_time))\n",
    "    plt.show()\n",
    "    \n",
    "    \n",
    "    \n",
    "\n",
    "\n"
   ]
  },
  {
   "cell_type": "code",
   "execution_count": 20,
   "metadata": {
    "collapsed": true
   },
   "outputs": [],
   "source": [
    "\n",
    "\n",
    "\n",
    "#widgets.interact(draw_current_temp_aggr, current_time=time_slider)\n",
    "plot = widgets.interactive(draw_current_temp_aggr, current_time=time_slider)\n",
    "\n",
    "\n",
    "\n",
    "widgets.jslink((play, 'value'), (time_slider, 'value'))\n",
    "playbox = widgets.HBox([play,time_slider])\n",
    "graphbox = widgets.VBox([plot, playbox])\n"
   ]
  },
  {
   "cell_type": "code",
   "execution_count": 21,
   "metadata": {
    "collapsed": true
   },
   "outputs": [],
   "source": [
    "def on_toogle_filetype(change):\n",
    "    if change['new'] == 'Network':\n",
    "        w_upload_local_nf.layout.display = 'none'\n",
    "        w_upload_local_af.layout.display = 'none'\n",
    "\n",
    "        w_upload_network_nf.layout.display = 'inline'\n",
    "        w_upload_network_af.layout.display = 'inline'\n",
    "        \n",
    "        w_attribute_file.disabled = False\n",
    "        w_attribute_file.placeholder='www.url_to_file.de (Allowed types: .zip, .txt ; Max filesize = {:.2f} mB)'.format(max_filesize_import/10**6)\n",
    "        w_network_file.disabled = False\n",
    "        w_network_file.placeholder='www.url_to_file.de (Allowed types: .zip, .txt ; Max filesize = {:.2f} mB)'.format(max_filesize_import/10**6)\n",
    "\n",
    "    else:  \n",
    "        w_upload_local_nf.layout.display = 'inline'\n",
    "        w_upload_local_af.layout.display = 'inline'\n",
    "\n",
    "        w_upload_network_nf.layout.display = 'none'\n",
    "        w_upload_network_af.layout.display = 'none'\n",
    "        \n",
    "        w_attribute_file.disabled = True\n",
    "        w_attribute_file.placeholder='Allowed types: .zip, .txt ; Max filesize = 5mb'\n",
    "        w_network_file.disabled = True\n",
    "        w_network_file.placeholder='Allowed types: .zip, .txt ; Max filesize = 5mb'\n",
    "\n",
    "def _handle_upload_nf(change):\n",
    "    try:\n",
    "        global network_data\n",
    "        w = change['owner']    \n",
    "        with open(w.filename, 'wb') as f:\n",
    "            if ((w.filename.endswith('.dat') or w.filename.endswith('.txt') or w.filename.endswith('.zip')) and len(w.data) < max_filesize_import) :\n",
    "                f.write(w.data)\n",
    "                w_network_file.value = 'Uploaded `{}` ({:.2f} kB)'.format(w.filename, len(w.data) / 2**10)\n",
    "            else:\n",
    "                w_network_file.value = 'Invalid filetype or size!'\n",
    "                return\n",
    "        network_data=pd.read_table(w.filename, header=None, delim_whitespace=True, names=['timestamp', 'node1', 'node2'])        \n",
    "\n",
    "        with w_out_network:\n",
    "            clear_output()\n",
    "            print('Preview {} :'.format(w.filename))\n",
    "            print(display(network_data.head(4)))\n",
    "    except :\n",
    "        w_network_file.value = 'Could not read file, use tab seperated columns!'\n",
    "        with w_out_network:\n",
    "            clear_output()\n",
    "            print(\"\\x1b[31mCould not read file, use tab seperated columns!\\x1b[0m\")\n",
    "        \n",
    "def _handle_upload_af(change):\n",
    "    try:\n",
    "        w = change['owner']      \n",
    "        with open(w.filename, 'wb') as f:   \n",
    "            if ((w.filename.endswith('.dat') or w.filename.endswith('.txt') or w.filename.endswith('.zip')) and len(w.data) < max_filesize_import) :\n",
    "                f.write(w.data)           \n",
    "                w_attribute_file.value = 'Uploaded `{}` ({:.2f} kB)'.format(w.filename, len(w.data) / 2**10)\n",
    "            else:\n",
    "                w_attribute_file.value = 'Invalid filetype or size!'\n",
    "                return\n",
    "        attribute_data=pd.read_table(w.filename, header=None, delim_whitespace=True)\n",
    "        with w_out_attributes:\n",
    "            clear_output()\n",
    "            print('Preview {} :'.format(w.filename))\n",
    "            print(display(attribute_data.head(4)))\n",
    "        open_colum_config(attribute_data)\n",
    "    except :\n",
    "        w_attribute_file.value = 'Could not read file, use tab seperated columns!'\n",
    "        with w_out_attributes:\n",
    "            clear_output()\n",
    "            print(\"\\x1b[31mCould not read file, use tab seperated columns!\\x1b[0m\")\n",
    "     \n",
    "        \n",
    "def _handle_network_upload_nf(change):\n",
    "    try:\n",
    "        url = w_network_file.value#'http://www.sociopatterns.org/wp-content/uploads/2016/06/tij_InVS.dat_.zip'\n",
    "        network_data=pd.read_table(url, header=None, delim_whitespace=True)\n",
    "        with w_out_network:\n",
    "            clear_output()\n",
    "            print('Preview {} :'.format(url))\n",
    "            print(display(network_data.head(4)))\n",
    "    except :\n",
    "        w_network_file.value = 'Could not read file, use tab seperated columns!'\n",
    "        with w_out_network:\n",
    "            clear_output()\n",
    "            print(\"\\x1b[31mCould not read file, use tab seperated columns!\\x1b[0m\")\n",
    "        \n",
    "def _handle_network_upload_af(change): \n",
    "    try:\n",
    "        url = w_attribute_file.value#'http://www.sociopatterns.org/wp-content/uploads/2016/06/tij_InVS.dat_.zip'\n",
    "        attribute_data=pd.read_table(url, header=None, delim_whitespace=True)\n",
    "        with w_out_attributes:\n",
    "            clear_output()\n",
    "            print('Preview {} :'.format(url))\n",
    "            print(display(attribute_data.head(4)))           \n",
    "        open_colum_config(attribute_data)\n",
    "    except :\n",
    "        w_attribute_file.value = 'Could not read file, use tab seperated columns!'\n",
    "        with w_out_attributes:\n",
    "            clear_output()\n",
    "            print(\"\\x1b[31mCould not read file, use tab seperated columns!\\x1b[0m\")\n",
    "        \n",
    "def open_colum_config(attribute_data):\n",
    "    w_attribute_settings_left.children = []\n",
    "    default_options = []\n",
    "    default_value='COL_1'\n",
    "    b = True\n",
    "    for x in range(len(attribute_data.columns)):\n",
    "        default_options.append('COL_{}'.format(x))\n",
    "        #print(np.issubdtype(attribute_data.dtypes[x], np.integer))\n",
    "        if b and np.issubdtype(attribute_data.dtypes[x], np.integer):\n",
    "            default_value = 'COL_{}'.format(x)\n",
    "            b = False\n",
    "        \n",
    "        \n",
    "    w_nodeID_dropdown=widgets.Dropdown(\n",
    "        options=default_options,\n",
    "        value=default_value,\n",
    "        description='Node ID:',\n",
    "        disabled=False,\n",
    "    )\n",
    "    \n",
    "        \n",
    "    w_attribute_settings_left.children += (w_nodeID_dropdown,)\n",
    "    #print(attribute_data.dtypes)\n",
    "    for x in range(len(attribute_data.columns)):       \n",
    "        w_col_name = widgets.Text(\n",
    "                value='{}'.format(attribute_data.columns[x]),\n",
    "                placeholder='Rename to',\n",
    "                description='COL_{}'.format(x),\n",
    "                disabled=False\n",
    "        )\n",
    "        start_value = 'String'\n",
    "        if np.issubdtype(attribute_data.dtypes[x], np.integer):\n",
    "            start_value = 'Integer'\n",
    "            \n",
    "        w_type_dropdown=widgets.Dropdown(\n",
    "            options=['String', 'Integer', 'Float'],\n",
    "            value=start_value,\n",
    "            description='Type:',\n",
    "            disabled=False,\n",
    "        )\n",
    "        w_attribute_settings_left.children += (widgets.VBox([w_col_name,w_type_dropdown],layout=box_layout_),)"
   ]
  },
  {
   "cell_type": "code",
   "execution_count": 22,
   "metadata": {
    "scrolled": true
   },
   "outputs": [
    {
     "data": {
      "application/vnd.jupyter.widget-view+json": {
       "model_id": "ea0162a5137b4259b31bc38c0579787c",
       "version_major": 2,
       "version_minor": 0
      },
      "text/plain": [
       "A Jupyter Widget"
      ]
     },
     "metadata": {},
     "output_type": "display_data"
    },
    {
     "data": {
      "application/vnd.jupyter.widget-view+json": {
       "model_id": "fe01847040dc4a36ad6607010e96994f",
       "version_major": 2,
       "version_minor": 0
      },
      "text/plain": [
       "A Jupyter Widget"
      ]
     },
     "metadata": {},
     "output_type": "display_data"
    }
   ],
   "source": [
    "box_layout = widgets.Layout(border='solid 1px rgb(210,210,210)',margin=\"5px 5px 5px 5px\")\n",
    "box_layout_ = widgets.Layout(margin=\"10px 0px 10px 0px\")\n",
    "simbox_layout = widgets.Layout(border='solid 1px rgb(210,210,210)',margin=\"5px 5px 5px 5px\",width=\"100%\",height=\"600px\")\n",
    "upload_layout = widgets.Layout(width=\"100%\")\n",
    "\n",
    "\n",
    "w_upload_type = widgets.ToggleButtons(\n",
    "    options=['Computer', 'Network'],\n",
    "    description='Source:',\n",
    "    disabled=False,\n",
    "    button_style='info', # 'success', 'info', 'warning', 'danger' or ''\n",
    "    tooltips=['Upload file from local folder', 'Upload from network path'],\n",
    "\n",
    ")\n",
    "\n",
    "\n",
    "w_upload_type.observe(on_toogle_filetype, 'value')\n",
    "\n",
    "w_network_file = widgets.Text(\n",
    "    value='',\n",
    "    placeholder='Allowed types: .zip, .txt ; Max filesize = 5mb',\n",
    "    description='Network file:',\n",
    "    disabled=True,\n",
    "    layout=upload_layout\n",
    ")\n",
    "\n",
    "\n",
    "w_attribute_file = widgets.Text(\n",
    "    value='',\n",
    "    placeholder='Allowed types: .zip, .txt ; Max filesize = 5mb',\n",
    "    description='Attribute file:',\n",
    "    disabled=True, \n",
    "    layout=upload_layout\n",
    ")\n",
    "\n",
    "w_upload_local_nf = fileupload.FileUploadWidget(    \n",
    "    label=\"Upload\",\n",
    ")\n",
    "w_upload_local_nf.observe(_handle_upload_nf, names='data')\n",
    "\n",
    "\n",
    "w_upload_local_af = fileupload.FileUploadWidget(    \n",
    "    label=\"Upload\",\n",
    ")\n",
    "w_upload_local_af.observe(_handle_upload_af, names='data')\n",
    "\n",
    "\n",
    "w_upload_network_nf = widgets.Button(\n",
    "    description='Upload',\n",
    "    disabled=False,\n",
    "    button_style='info',\n",
    "    tooltip='Upload network file',\n",
    "    icon='upload'\n",
    ")\n",
    "w_upload_network_nf.layout.display = 'none'\n",
    "w_upload_network_nf.on_click(_handle_network_upload_nf)\n",
    "\n",
    "w_upload_network_af = widgets.Button(\n",
    "    description='Upload',\n",
    "    disabled=False,\n",
    "    button_style='info', \n",
    "    tooltip='Upload attribute file',\n",
    "    icon='upload'\n",
    ")\n",
    "w_upload_network_af.layout.display = 'none'\n",
    "w_upload_network_af.on_click(_handle_network_upload_af)\n",
    "\n",
    "\n",
    "w_out_network = widgets.Output()\n",
    "#network_data=pd.read_table(example_network_data, header=None, delim_whitespace=True)\n",
    "\n",
    "with w_out_network:\n",
    "    display(HTML(input_form))\n",
    "    \n",
    "w_out_attributes = widgets.Output()\n",
    "#attribute_data=pd.read_table(example_attribute_data, header=None, delim_whitespace=True)\n",
    "with w_out_attributes:\n",
    "    display(HTML(input_form))\n",
    "\n",
    "\n",
    "\n",
    "w_run = widgets.Button(\n",
    "    description='Run',\n",
    "    disabled=False,\n",
    "    button_style='success',\n",
    "    tooltip='Run simulation',\n",
    "    icon='start'\n",
    ")\n",
    "w_import = widgets.Button(\n",
    "    description='Import',\n",
    "    disabled=False,\n",
    "    button_style='warning',\n",
    "    tooltip='Import',\n",
    "    icon='start'\n",
    ")\n",
    "w_progress=widgets.IntProgress(\n",
    "    value=0,\n",
    "    min=0,\n",
    "    max=10,\n",
    "    description='Loading:',\n",
    "    bar_style='info',\n",
    "    orientation='horizontal'\n",
    ")\n",
    "w_progress.layout.visibility ='hidden'\n",
    "w_upload_typeHBox=widgets.HBox([w_upload_type], layout=box_layout)\n",
    "\n",
    "w_network_uploadHBox=widgets.HBox([w_network_file, w_upload_local_nf, w_upload_network_nf])\n",
    "\n",
    "\n",
    "#w_network_settings_left = widgets.VBox([w_timestamp_dropdown, w_node01_dropdown,w_node02_dropdown])\n",
    "w_network_settings=widgets.HBox([w_out_network])\n",
    "\n",
    "import_network_box = widgets.VBox([w_network_uploadHBox,w_network_settings],layout=box_layout)\n",
    "\n",
    "w_attribute_uploadHBox=widgets.HBox([w_attribute_file, w_upload_local_af, w_upload_network_af])\n",
    "\n",
    "w_attribute_settings_left = widgets.VBox([])\n",
    "\n",
    "w_attribute_settings=widgets.HBox([ w_attribute_settings_left, w_out_attributes ])\n",
    "import_attribute_box = widgets.VBox([w_attribute_uploadHBox,w_attribute_settings],layout=box_layout)\n",
    "\n",
    "w_toolbar=widgets.HBox([w_run, w_progress])\n",
    "import_box = widgets.VBox([w_upload_typeHBox, import_network_box,import_attribute_box,w_toolbar])\n",
    "\n",
    "simulation_box = widgets.VBox([w_import,  graphbox],layout=simbox_layout)\n",
    "simulation_box.layout.display = 'none'\n",
    "\n",
    "def on_run(b):\n",
    "    create_greaph()\n",
    "    w_progress.layout.visibility ='visible'\n",
    "    #for i in range(10):\n",
    "    #    time.sleep(0.3)\n",
    "    #   w_progress.value+=1\n",
    "    import_box.layout.display = 'none'\n",
    "    \n",
    "    simulation_box.layout.display = 'block'\n",
    "    \n",
    "def on_import(b):\n",
    "    simulation_box.layout.display = 'none'\n",
    "    w_progress.value=0\n",
    "    w_progress.layout.visibility ='hidden'\n",
    "    import_box.layout.display = 'block'\n",
    "        \n",
    "w_run.on_click(on_run)\n",
    "w_import.on_click(on_import)\n",
    "display(simulation_box)\n",
    "display(import_box)"
   ]
  },
  {
   "cell_type": "code",
   "execution_count": 23,
   "metadata": {
    "collapsed": true
   },
   "outputs": [],
   "source": [
    "\n",
    "exportbutton = widgets.Button(\n",
    "    value=False,\n",
    "    description='Convert',\n",
    "    disabled=False,\n",
    "    button_style='', \n",
    "    tooltip='Download animation',\n",
    "    icon='download'\n",
    ")"
   ]
  },
  {
   "cell_type": "code",
   "execution_count": 24,
   "metadata": {
    "collapsed": true
   },
   "outputs": [],
   "source": [
    "filetyperadios = widgets.RadioButtons(\n",
    "    options=['Mp4', 'Gif'],\n",
    "    description='Filetype:',\n",
    "    disabled=False\n",
    ")"
   ]
  },
  {
   "cell_type": "code",
   "execution_count": 25,
   "metadata": {
    "collapsed": true
   },
   "outputs": [],
   "source": [
    "box = HBox([filetyperadios, exportbutton])\n",
    "settings = HBox([filetyperadios, exportbutton])"
   ]
  },
  {
   "cell_type": "code",
   "execution_count": 26,
   "metadata": {
    "collapsed": true
   },
   "outputs": [],
   "source": [
    "tab_nest = widgets.Tab()\n",
    "tab_nest.children = [box, settings]\n",
    "tab_nest.set_title(0, 'Export')\n",
    "tab_nest.set_title(1, 'Settings')\n",
    "#tab_nest"
   ]
  },
  {
   "cell_type": "code",
   "execution_count": 27,
   "metadata": {
    "scrolled": false
   },
   "outputs": [
    {
     "data": {
      "text/plain": [
       "\"\\n\\ndpi = 100\\n\\n\\nplt.figure(fig_num, figsize=(8, 8))\\nfig = plt.gcf()\\naxes = plt.gca()\\naxes.set_xlim((-1.2, 1.2))\\naxes.set_ylim((-1.2, 1.2))\\n\\n\\ndef draw_current_temp_aggr(current_time):\\n    current_time = current_time*20\\n    fig = plt.gcf()\\n    ht9_tem_agg_net = nx.Graph()\\n    ht9_tem_agg_net.add_edges_from([(t[2], t[3]) for t in ht9_df[ht9_df['timestamp'] == current_time].itertuples()])\\n    axes.set_title('time = {}'.format(current_time))\\n    nx.draw_networkx(ht9_tem_agg_net, ht9_aggr_layout, ax=axes, with_labels=False, node_size=75, node_color='green')\\n\\n\\n\\n#ani = animation.FuncAnimation(fig,draw_current_temp_aggr,5000/20,interval=30)\\n#writer = animation.writers['ffmpeg'](fps=30)\\n\\n#ani.save('demo.mp4',writer=writer,dpi=dpi)\\n\""
      ]
     },
     "execution_count": 27,
     "metadata": {},
     "output_type": "execute_result"
    }
   ],
   "source": [
    "\n",
    "# To Install ffmpeg: conda install -c conda-forge ffmpeg\n",
    "'''\n",
    "\n",
    "dpi = 100\n",
    "\n",
    "\n",
    "plt.figure(fig_num, figsize=(8, 8))\n",
    "fig = plt.gcf()\n",
    "axes = plt.gca()\n",
    "axes.set_xlim((-1.2, 1.2))\n",
    "axes.set_ylim((-1.2, 1.2))\n",
    "\n",
    "\n",
    "def draw_current_temp_aggr(current_time):\n",
    "    current_time = current_time*20\n",
    "    fig = plt.gcf()\n",
    "    ht9_tem_agg_net = nx.Graph()\n",
    "    ht9_tem_agg_net.add_edges_from([(t[2], t[3]) for t in ht9_df[ht9_df['timestamp'] == current_time].itertuples()])\n",
    "    axes.set_title('time = {}'.format(current_time))\n",
    "    nx.draw_networkx(ht9_tem_agg_net, ht9_aggr_layout, ax=axes, with_labels=False, node_size=75, node_color='green')\n",
    "\n",
    "\n",
    "\n",
    "#ani = animation.FuncAnimation(fig,draw_current_temp_aggr,5000/20,interval=30)\n",
    "#writer = animation.writers['ffmpeg'](fps=30)\n",
    "\n",
    "#ani.save('demo.mp4',writer=writer,dpi=dpi)\n",
    "'''"
   ]
  },
  {
   "cell_type": "code",
   "execution_count": null,
   "metadata": {
    "collapsed": true
   },
   "outputs": [],
   "source": [
    "\n"
   ]
  },
  {
   "cell_type": "code",
   "execution_count": null,
   "metadata": {
    "collapsed": true
   },
   "outputs": [],
   "source": []
  },
  {
   "cell_type": "code",
   "execution_count": 28,
   "metadata": {
    "collapsed": true
   },
   "outputs": [],
   "source": [
    "\n",
    "#FileLinks('.')"
   ]
  },
  {
   "cell_type": "code",
   "execution_count": 29,
   "metadata": {
    "collapsed": true
   },
   "outputs": [],
   "source": [
    "#html = '<a download=\"filename\" href=\"/files/demo1.mp4\" target=\"_blank\">Download</a>'\n",
    "#HTML(html)\n",
    "\n"
   ]
  },
  {
   "cell_type": "code",
   "execution_count": null,
   "metadata": {
    "collapsed": true
   },
   "outputs": [],
   "source": []
  },
  {
   "cell_type": "code",
   "execution_count": null,
   "metadata": {
    "collapsed": true
   },
   "outputs": [],
   "source": [
    "\n"
   ]
  },
  {
   "cell_type": "code",
   "execution_count": null,
   "metadata": {
    "collapsed": true
   },
   "outputs": [],
   "source": []
  },
  {
   "cell_type": "code",
   "execution_count": null,
   "metadata": {
    "collapsed": true
   },
   "outputs": [],
   "source": []
  },
  {
   "cell_type": "code",
   "execution_count": null,
   "metadata": {
    "collapsed": true
   },
   "outputs": [],
   "source": []
  },
  {
   "cell_type": "code",
   "execution_count": 30,
   "metadata": {},
   "outputs": [
    {
     "data": {
      "text/html": [
       "\n",
       "<script>\n",
       "    code_show=true; \n",
       "    function code_toggle() {\n",
       "         if (code_show){\n",
       "             $('div.input').hide();\n",
       "         } else {\n",
       "             $('div.input').show();\n",
       "         }\n",
       "         code_show = !code_show\n",
       "    } \n",
       "    $( document ).ready(code_toggle);\n",
       "</script>\n",
       "The raw code for this IPython notebook is by default hidden for easier reading.\n",
       "To toggle on/off the raw code, click <a href=\"javascript:code_toggle()\">here</a>.\n"
      ],
      "text/plain": [
       "<IPython.core.display.HTML object>"
      ]
     },
     "execution_count": 30,
     "metadata": {},
     "output_type": "execute_result"
    }
   ],
   "source": [
    "# http://chris-said.io/2016/02/13/how-to-make-polished-jupyter-presentations-with-optional-code-visibility/\n",
    "HTML('''\n",
    "<script>\n",
    "    code_show=true; \n",
    "    function code_toggle() {\n",
    "         if (code_show){\n",
    "             $('div.input').hide();\n",
    "         } else {\n",
    "             $('div.input').show();\n",
    "         }\n",
    "         code_show = !code_show\n",
    "    } \n",
    "    $( document ).ready(code_toggle);\n",
    "</script>\n",
    "The raw code for this IPython notebook is by default hidden for easier reading.\n",
    "To toggle on/off the raw code, click <a href=\"javascript:code_toggle()\">here</a>.\n",
    "''')"
   ]
  },
  {
   "cell_type": "code",
   "execution_count": null,
   "metadata": {
    "collapsed": true
   },
   "outputs": [],
   "source": []
  },
  {
   "cell_type": "code",
   "execution_count": null,
   "metadata": {
    "collapsed": true
   },
   "outputs": [],
   "source": []
  },
  {
   "cell_type": "code",
   "execution_count": null,
   "metadata": {
    "collapsed": true
   },
   "outputs": [],
   "source": []
  },
  {
   "cell_type": "code",
   "execution_count": null,
   "metadata": {
    "collapsed": true
   },
   "outputs": [],
   "source": []
  },
  {
   "cell_type": "code",
   "execution_count": null,
   "metadata": {
    "collapsed": true
   },
   "outputs": [],
   "source": []
  },
  {
   "cell_type": "code",
   "execution_count": null,
   "metadata": {
    "collapsed": true
   },
   "outputs": [],
   "source": []
  },
  {
   "cell_type": "code",
   "execution_count": null,
   "metadata": {
    "collapsed": true
   },
   "outputs": [],
   "source": []
  }
 ],
 "metadata": {
  "anaconda-cloud": {},
  "kernelspec": {
   "display_name": "Python 3",
   "language": "python",
   "name": "python3"
  },
  "language_info": {
   "codemirror_mode": {
    "name": "ipython",
    "version": 3
   },
   "file_extension": ".py",
   "mimetype": "text/x-python",
   "name": "python",
   "nbconvert_exporter": "python",
   "pygments_lexer": "ipython3",
   "version": "3.6.3"
  }
 },
 "nbformat": 4,
 "nbformat_minor": 1
}
