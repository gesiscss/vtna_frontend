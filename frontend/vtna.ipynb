{
 "cells": [
  {
   "cell_type": "markdown",
   "metadata": {},
   "source": [
    "<div style=\"text-align: center\"><img width=300px src=\"https://www.uni-koblenz-landau.de/de/koblenz/logo.png\"></div>\n",
    "\n",
    "\n",
    "# VTNA\n",
    "\n"
   ]
  },
  {
   "cell_type": "code",
   "execution_count": 17,
   "metadata": {},
   "outputs": [],
   "source": [
    "\n",
    "import ipywidgets as widgets\n",
    "import pandas as pd\n",
    "import matplotlib.pyplot as plt\n",
    "import networkx as nx\n",
    "import numpy as np\n",
    "import seaborn as sns\n",
    "import matplotlib.animation as animation\n",
    "from pylab import *\n",
    "\n",
    "from ipywidgets import Button, HBox, VBox\n",
    "from IPython.display import display, HTML\n",
    "\n",
    "\n",
    "\n"
   ]
  },
  {
   "cell_type": "code",
   "execution_count": 18,
   "metadata": {},
   "outputs": [],
   "source": [
    "dpi = 100\n",
    "\n",
    "def ani_frame():\n",
    "    fig = plt.figure()\n",
    "    ax = fig.add_subplot(111)\n",
    "    ax.set_aspect('equal')\n",
    "    ax.get_xaxis().set_visible(False)\n",
    "    ax.get_yaxis().set_visible(False)\n",
    "\n",
    "    im = ax.imshow(rand(300,300),cmap='gray',interpolation='nearest')\n",
    "    im.set_clim([0,1])\n",
    "    fig.set_size_inches([5,5])\n",
    "\n",
    "\n",
    "    tight_layout()\n",
    "\n",
    "\n",
    "    def update_img(n):\n",
    "        tmp = rand(300,300)\n",
    "        im.set_data(tmp)\n",
    "        return im\n",
    "\n",
    "    #legend(loc=0)\n",
    "    ani = animation.FuncAnimation(fig,update_img,300,interval=30)\n",
    "    writer = animation.writers['ffmpeg'](fps=30)\n",
    "\n",
    "    ani.save('demo.mp4',writer=writer,dpi=dpi)\n",
    "    return ani"
   ]
  },
  {
   "cell_type": "code",
   "execution_count": null,
   "metadata": {},
   "outputs": [],
   "source": []
  },
  {
   "cell_type": "code",
   "execution_count": 19,
   "metadata": {},
   "outputs": [],
   "source": [
    "ht9_df = pd.read_csv('data/ht09_contact_list.dat', sep='\\t', header=None, names=['timestamp', 'node1', 'node2'])\n",
    "time_sec = ht9_df['timestamp'].max() - ht9_df['timestamp'].min()\n",
    "def safe_div(x,y):\n",
    "    if y == 0:\n",
    "        return 0\n",
    "    return x / y\n",
    "\n",
    "update_delta_sec = 20\n",
    "\n"
   ]
  },
  {
   "cell_type": "code",
   "execution_count": 20,
   "metadata": {},
   "outputs": [],
   "source": [
    "ht9_aggr_df = ht9_df.groupby(['node1', 'node2'], as_index=False).count().rename(columns={'timestamp': 'observations'})\n",
    "ht9_aggr_net = nx.Graph()\n",
    "ht9_aggr_net.add_edges_from((t[1], t[2], {'observations': t[3]}) for t in ht9_aggr_df.itertuples())\n",
    "ht9_aggr_deg_cent = list(nx.degree_centrality(ht9_aggr_net).values())\n",
    "ht9_aggr_clo_cent = list(nx.closeness_centrality(ht9_aggr_net).values())\n",
    "ht9_aggr_layout = nx.spring_layout(ht9_aggr_net, k=2.0/np.sqrt(len(ht9_aggr_net.nodes)))"
   ]
  },
  {
   "cell_type": "code",
   "execution_count": 21,
   "metadata": {},
   "outputs": [],
   "source": [
    "# Compute layout of nodes for aggregated network.\n",
    "ht9_aggr_layout = nx.spring_layout(ht9_aggr_net, k=safe_div(2.0,np.sqrt(len(ht9_aggr_net.nodes))))\n",
    "initial_time = ht9_df['timestamp'].min()\n",
    "\n",
    "plt.figure(figsize=(8, 8))\n",
    "fig = plt.gcf()\n",
    "axes = plt.gca()\n",
    "fig_num = fig.number\n",
    "\n",
    "\n",
    "def draw_current_temp_aggr(current_time):\n",
    "    ht9_tem_agg_net = nx.Graph()\n",
    "    ht9_tem_agg_net.add_edges_from([(t[2], t[3]) for t in ht9_df[ht9_df['timestamp'] == current_time].itertuples()])\n",
    "    \n",
    "    plt.figure(fig_num, figsize=(8, 8))\n",
    "    fig = plt.gcf()\n",
    "    axes = plt.gca()\n",
    "    axes.set_xlim((-1.2, 1.2))\n",
    "    axes.set_ylim((-1.2, 1.2))\n",
    "    nx.draw_networkx(ht9_tem_agg_net, ht9_aggr_layout, ax=axes, with_labels=False, node_size=75, node_color='green')\n",
    "    axes.set_title('time = {}'.format(current_time))\n",
    "    plt.show()\n",
    "    \n",
    "time_slider = widgets.IntSlider(\n",
    "    value=initial_time,\n",
    "    min=initial_time,\n",
    "    description='Timeline: ',\n",
    "    max=ht9_df['timestamp'].max(),\n",
    "    step=update_delta_sec,\n",
    "    continuous_update=False\n",
    ")\n",
    "\n",
    "\n",
    "#widgets.interact(draw_current_temp_aggr, current_time=time_slider)\n",
    "plot = widgets.interactive(draw_current_temp_aggr, current_time=time_slider)"
   ]
  },
  {
   "cell_type": "code",
   "execution_count": 22,
   "metadata": {},
   "outputs": [
    {
     "data": {
      "application/vnd.jupyter.widget-view+json": {
       "model_id": "7c52e3c20aed479c8472f07a3a6660e3",
       "version_major": 2,
       "version_minor": 0
      },
      "text/html": [
       "<p>Failed to display Jupyter Widget of type <code>VBox</code>.</p>\n",
       "<p>\n",
       "  If you're reading this message in the Jupyter Notebook or JupyterLab Notebook, it may mean\n",
       "  that the widgets JavaScript is still loading. If this message persists, it\n",
       "  likely means that the widgets JavaScript library is either not installed or\n",
       "  not enabled. See the <a href=\"https://ipywidgets.readthedocs.io/en/stable/user_install.html\">Jupyter\n",
       "  Widgets Documentation</a> for setup instructions.\n",
       "</p>\n",
       "<p>\n",
       "  If you're reading this message in another frontend (for example, a static\n",
       "  rendering on GitHub or <a href=\"https://nbviewer.jupyter.org/\">NBViewer</a>),\n",
       "  it may mean that your frontend doesn't currently support widgets.\n",
       "</p>\n"
      ],
      "text/plain": [
       "VBox(children=(interactive(children=(IntSlider(value=20, continuous_update=False, description='Timeline: ', max=212360, min=20, step=20), Output()), _dom_classes=('widget-interact',)), Play(value=50, description='Press play', max=212360, step=20)))"
      ]
     },
     "metadata": {},
     "output_type": "display_data"
    }
   ],
   "source": [
    "\n",
    "\n",
    "play = widgets.Play(\n",
    "#     interval=10,\n",
    "    value=50,\n",
    "    min=0,\n",
    "    max=ht9_df['timestamp'].max(),\n",
    "    step=20,\n",
    "    description=\"Press play\",\n",
    "    disabled=False\n",
    ")\n",
    "\n",
    "widgets.jslink((play, 'value'), (time_slider, 'value'))\n",
    "widgets.VBox([plot, play])"
   ]
  },
  {
   "cell_type": "code",
   "execution_count": 23,
   "metadata": {},
   "outputs": [],
   "source": [
    "\n",
    "exportbutton = widgets.Button(\n",
    "    value=False,\n",
    "    description='Convert',\n",
    "    disabled=False,\n",
    "    button_style='', \n",
    "    tooltip='Download animation',\n",
    "    icon='download'\n",
    ")"
   ]
  },
  {
   "cell_type": "code",
   "execution_count": 24,
   "metadata": {},
   "outputs": [],
   "source": [
    "filetyperadios = widgets.RadioButtons(\n",
    "    options=['Mp4', 'Gif'],\n",
    "    description='Filetype:',\n",
    "    disabled=False\n",
    ")"
   ]
  },
  {
   "cell_type": "code",
   "execution_count": 25,
   "metadata": {},
   "outputs": [],
   "source": [
    "box = HBox([filetyperadios, exportbutton])\n",
    "settings = HBox([filetyperadios, exportbutton])"
   ]
  },
  {
   "cell_type": "code",
   "execution_count": 26,
   "metadata": {},
   "outputs": [
    {
     "data": {
      "application/vnd.jupyter.widget-view+json": {
       "model_id": "15bc60fead124ee5bbd2e460ccd9f898",
       "version_major": 2,
       "version_minor": 0
      },
      "text/html": [
       "<p>Failed to display Jupyter Widget of type <code>Tab</code>.</p>\n",
       "<p>\n",
       "  If you're reading this message in the Jupyter Notebook or JupyterLab Notebook, it may mean\n",
       "  that the widgets JavaScript is still loading. If this message persists, it\n",
       "  likely means that the widgets JavaScript library is either not installed or\n",
       "  not enabled. See the <a href=\"https://ipywidgets.readthedocs.io/en/stable/user_install.html\">Jupyter\n",
       "  Widgets Documentation</a> for setup instructions.\n",
       "</p>\n",
       "<p>\n",
       "  If you're reading this message in another frontend (for example, a static\n",
       "  rendering on GitHub or <a href=\"https://nbviewer.jupyter.org/\">NBViewer</a>),\n",
       "  it may mean that your frontend doesn't currently support widgets.\n",
       "</p>\n"
      ],
      "text/plain": [
       "Tab(children=(HBox(children=(RadioButtons(description='Filetype:', options=('Mp4', 'Gif'), value='Mp4'), Button(description='Convert', icon='download', style=ButtonStyle(), tooltip='Download animation'))), HBox(children=(RadioButtons(description='Filetype:', options=('Mp4', 'Gif'), value='Mp4'), Button(description='Convert', icon='download', style=ButtonStyle(), tooltip='Download animation')))), _titles={'0': 'Export', '1': 'Settings'})"
      ]
     },
     "metadata": {},
     "output_type": "display_data"
    }
   ],
   "source": [
    "tab_nest = widgets.Tab()\n",
    "tab_nest.children = [box, settings]\n",
    "tab_nest.set_title(0, 'Export')\n",
    "tab_nest.set_title(1, 'Settings')\n",
    "tab_nest"
   ]
  },
  {
   "cell_type": "code",
   "execution_count": 27,
   "metadata": {},
   "outputs": [],
   "source": [
    "# To Install ffmpeg: conda install -c conda-forge ffmpeg\n",
    "'''\n",
    "ani_frame()\n",
    "'''\n",
    "\n",
    "\n",
    "plt.figure(fig_num, figsize=(8, 8))\n",
    "fig = plt.gcf()\n",
    "axes = plt.gca()\n",
    "axes.set_xlim((-1.2, 1.2))\n",
    "axes.set_ylim((-1.2, 1.2))\n",
    "\n",
    "\n",
    "def draw_current_temp_aggr(current_time):\n",
    "    current_time = current_time*20\n",
    "    fig = plt.gcf()\n",
    "    ht9_tem_agg_net = nx.Graph()\n",
    "    ht9_tem_agg_net.add_edges_from([(t[2], t[3]) for t in ht9_df[ht9_df['timestamp'] == current_time].itertuples()])\n",
    "    axes.set_title('time = {}'.format(current_time))\n",
    "    nx.draw_networkx(ht9_tem_agg_net, ht9_aggr_layout, ax=axes, with_labels=False, node_size=75, node_color='green')\n",
    "\n",
    "\n",
    "\n",
    "#ani = animation.FuncAnimation(fig,draw_current_temp_aggr,5000/20,interval=30)\n",
    "#writer = animation.writers['ffmpeg'](fps=30)\n",
    "\n",
    "#ani.save('demo.mp4',writer=writer,dpi=dpi)\n"
   ]
  },
  {
   "cell_type": "code",
   "execution_count": null,
   "metadata": {},
   "outputs": [],
   "source": []
  },
  {
   "cell_type": "code",
   "execution_count": null,
   "metadata": {},
   "outputs": [],
   "source": []
  },
  {
   "cell_type": "code",
   "execution_count": 6,
   "metadata": {},
   "outputs": [
    {
     "data": {
      "text/html": [
       "./<br>\n",
       "&nbsp;&nbsp;<a href='./demo1.mp4' target='_blank'>demo1.mp4</a><br>\n",
       "&nbsp;&nbsp;<a href='./notebook.tex' target='_blank'>notebook.tex</a><br>\n",
       "&nbsp;&nbsp;<a href='./vtna.ipynb' target='_blank'>vtna.ipynb</a><br>\n",
       ".\\.ipynb_checkpoints/<br>\n",
       "&nbsp;&nbsp;<a href='./.ipynb_checkpoints/vtna-checkpoint.ipynb' target='_blank'>vtna-checkpoint.ipynb</a><br>\n",
       ".\\data/<br>\n",
       "&nbsp;&nbsp;<a href='./data/ht09_contact_list.dat' target='_blank'>ht09_contact_list.dat</a><br>"
      ],
      "text/plain": [
       "./\n",
       "  demo1.mp4\n",
       "  notebook.tex\n",
       "  vtna.ipynb\n",
       ".\\.ipynb_checkpoints/\n",
       "  vtna-checkpoint.ipynb\n",
       ".\\data/\n",
       "  ht09_contact_list.dat"
      ]
     },
     "execution_count": 6,
     "metadata": {},
     "output_type": "execute_result"
    }
   ],
   "source": [
    "from IPython.display import FileLink, FileLinks\n",
    "FileLinks('.')"
   ]
  },
  {
   "cell_type": "code",
   "execution_count": 29,
   "metadata": {},
   "outputs": [
    {
     "data": {
      "text/html": [
       "<a download=\"filename\" href=\"/files/demo1.mp4\" target=\"_blank\">Download</a>"
      ],
      "text/plain": [
       "<IPython.core.display.HTML object>"
      ]
     },
     "execution_count": 29,
     "metadata": {},
     "output_type": "execute_result"
    }
   ],
   "source": [
    "html = '<a download=\"filename\" href=\"/files/demo1.mp4\" target=\"_blank\">Download</a>'\n",
    "HTML(html)\n",
    "\n"
   ]
  },
  {
   "cell_type": "code",
   "execution_count": 13,
   "metadata": {},
   "outputs": [
    {
     "data": {
      "application/vnd.jupyter.widget-view+json": {
       "model_id": "0ec82e4ea45c4ca5bb30fd84a79c158d",
       "version_major": 2,
       "version_minor": 0
      },
      "text/html": [
       "<p>Failed to display Jupyter Widget of type <code>FileUploadWidget</code>.</p>\n",
       "<p>\n",
       "  If you're reading this message in the Jupyter Notebook or JupyterLab Notebook, it may mean\n",
       "  that the widgets JavaScript is still loading. If this message persists, it\n",
       "  likely means that the widgets JavaScript library is either not installed or\n",
       "  not enabled. See the <a href=\"https://ipywidgets.readthedocs.io/en/stable/user_install.html\">Jupyter\n",
       "  Widgets Documentation</a> for setup instructions.\n",
       "</p>\n",
       "<p>\n",
       "  If you're reading this message in another frontend (for example, a static\n",
       "  rendering on GitHub or <a href=\"https://nbviewer.jupyter.org/\">NBViewer</a>),\n",
       "  it may mean that your frontend doesn't currently support widgets.\n",
       "</p>\n"
      ],
      "text/plain": [
       "FileUploadWidget(label='Browse', _dom_classes=('widget_item', 'btn-group'))"
      ]
     },
     "metadata": {},
     "output_type": "display_data"
    },
    {
     "name": "stdout",
     "output_type": "stream",
     "text": [
      "Uploaded `Liederliste.txt` (3.22 kB)\n",
      "Uploaded `ht09_contact_list.dat.gz` (65.88 kB)\n"
     ]
    }
   ],
   "source": [
    "#https://github.com/peteut/ipython-file-upload\n",
    "#https://github.com/ipython-contrib/jupyter_contrib_nbextensions\n",
    "\n",
    "from IPython.display import display\n",
    "import fileupload\n",
    "\n",
    "uploader = fileupload.FileUploadWidget()\n",
    "\n",
    "def _handle_upload(change):\n",
    "    w = change['owner']\n",
    "    with open(w.filename, 'wb') as f:\n",
    "        f.write(w.data)\n",
    "    print('Uploaded `{}` ({:.2f} kB)'.format(\n",
    "        w.filename, len(w.data) / 2**10))\n",
    "\n",
    "uploader.observe(_handle_upload, names='data')\n",
    "\n",
    "display(uploader)"
   ]
  },
  {
   "cell_type": "code",
   "execution_count": 34,
   "metadata": {},
   "outputs": [
    {
     "data": {
      "application/vnd.jupyter.widget-view+json": {
       "model_id": "e9a3766d81a54159bb8b988410df94e8",
       "version_major": 2,
       "version_minor": 0
      },
      "text/html": [
       "<p>Failed to display Jupyter Widget of type <code>FileUploadWidget</code>.</p>\n",
       "<p>\n",
       "  If you're reading this message in the Jupyter Notebook or JupyterLab Notebook, it may mean\n",
       "  that the widgets JavaScript is still loading. If this message persists, it\n",
       "  likely means that the widgets JavaScript library is either not installed or\n",
       "  not enabled. See the <a href=\"https://ipywidgets.readthedocs.io/en/stable/user_install.html\">Jupyter\n",
       "  Widgets Documentation</a> for setup instructions.\n",
       "</p>\n",
       "<p>\n",
       "  If you're reading this message in another frontend (for example, a static\n",
       "  rendering on GitHub or <a href=\"https://nbviewer.jupyter.org/\">NBViewer</a>),\n",
       "  it may mean that your frontend doesn't currently support widgets.\n",
       "</p>\n"
      ],
      "text/plain": [
       "FileUploadWidget(label='Browse', _dom_classes=('widget_item', 'btn-group'))"
      ]
     },
     "metadata": {},
     "output_type": "display_data"
    }
   ],
   "source": []
  },
  {
   "cell_type": "code",
   "execution_count": null,
   "metadata": {},
   "outputs": [],
   "source": []
  },
  {
   "cell_type": "code",
   "execution_count": null,
   "metadata": {},
   "outputs": [],
   "source": []
  },
  {
   "cell_type": "code",
   "execution_count": null,
   "metadata": {},
   "outputs": [],
   "source": []
  },
  {
   "cell_type": "code",
   "execution_count": 31,
   "metadata": {},
   "outputs": [
    {
     "data": {
      "text/html": [
       "\n",
       "<script>\n",
       "    code_show=true; \n",
       "    function code_toggle() {\n",
       "         if (code_show){\n",
       "             $('div.input').hide();\n",
       "         } else {\n",
       "             $('div.input').show();\n",
       "         }\n",
       "         code_show = !code_show\n",
       "    } \n",
       "    $( document ).ready(code_toggle);\n",
       "</script>\n",
       "The raw code for this IPython notebook is by default hidden for easier reading.\n",
       "To toggle on/off the raw code, click <a href=\"javascript:code_toggle()\">here</a>.\n"
      ],
      "text/plain": [
       "<IPython.core.display.HTML object>"
      ]
     },
     "execution_count": 31,
     "metadata": {},
     "output_type": "execute_result"
    }
   ],
   "source": [
    "# http://chris-said.io/2016/02/13/how-to-make-polished-jupyter-presentations-with-optional-code-visibility/\n",
    "HTML('''\n",
    "<script>\n",
    "    code_show=true; \n",
    "    function code_toggle() {\n",
    "         if (code_show){\n",
    "             $('div.input').hide();\n",
    "         } else {\n",
    "             $('div.input').show();\n",
    "         }\n",
    "         code_show = !code_show\n",
    "    } \n",
    "    $( document ).ready(code_toggle);\n",
    "</script>\n",
    "The raw code for this IPython notebook is by default hidden for easier reading.\n",
    "To toggle on/off the raw code, click <a href=\"javascript:code_toggle()\">here</a>.\n",
    "''')"
   ]
  }
 ],
 "metadata": {
  "anaconda-cloud": {},
  "kernelspec": {
   "display_name": "Python [conda root]",
   "language": "python",
   "name": "conda-root-py"
  },
  "language_info": {
   "codemirror_mode": {
    "name": "ipython",
    "version": 3
   },
   "file_extension": ".py",
   "mimetype": "text/x-python",
   "name": "python",
   "nbconvert_exporter": "python",
   "pygments_lexer": "ipython3",
   "version": "3.5.2"
  }
 },
 "nbformat": 4,
 "nbformat_minor": 1
}
